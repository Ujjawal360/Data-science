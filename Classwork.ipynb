{
 "cells": [
  {
   "cell_type": "code",
   "execution_count": 18,
   "id": "4363f59e",
   "metadata": {},
   "outputs": [
    {
     "data": {
      "text/plain": [
       "['numpy',\n",
       " 'pandas',\n",
       " 'matplotlib',\n",
       " 'plotly',\n",
       " 'librosa',\n",
       " 'counter',\n",
       " 'tensorflow',\n",
       " 'scipy.io',\n",
       " 'keras',\n",
       " 'pytorch']"
      ]
     },
     "execution_count": 18,
     "metadata": {},
     "output_type": "execute_result"
    }
   ],
   "source": [
    "python_libraries = ['numpy','pandas', 'matplotlib', 'plotly', 'librosa', 'counter', 'tensorflow', 'scipy.io', 'keras', 'pytorch']\n",
    "python_libraries"
   ]
  },
  {
   "cell_type": "code",
   "execution_count": 19,
   "id": "ae6ce1da",
   "metadata": {},
   "outputs": [
    {
     "data": {
      "text/plain": [
       "['numpy',\n",
       " 'pandas',\n",
       " 'matplotlib',\n",
       " 'plotly',\n",
       " 'librosa',\n",
       " 'counter',\n",
       " 'tensorflow',\n",
       " 'scipy.io',\n",
       " 'keras',\n",
       " 'pytorch',\n",
       " 'pyaudio']"
      ]
     },
     "execution_count": 19,
     "metadata": {},
     "output_type": "execute_result"
    }
   ],
   "source": [
    "python_libraries.append('pyaudio')\n",
    "python_libraries"
   ]
  },
  {
   "cell_type": "code",
   "execution_count": 20,
   "id": "b35b4935",
   "metadata": {},
   "outputs": [
    {
     "data": {
      "text/plain": [
       "'pyaudio'"
      ]
     },
     "execution_count": 20,
     "metadata": {},
     "output_type": "execute_result"
    }
   ],
   "source": [
    "python_libraries.pop(-1)"
   ]
  },
  {
   "cell_type": "code",
   "execution_count": 21,
   "id": "ad466f2e",
   "metadata": {},
   "outputs": [
    {
     "data": {
      "text/plain": [
       "'pytorch'"
      ]
     },
     "execution_count": 21,
     "metadata": {},
     "output_type": "execute_result"
    }
   ],
   "source": [
    "python_libraries.pop(len(python_libraries)-1)"
   ]
  },
  {
   "cell_type": "code",
   "execution_count": 22,
   "id": "05cbe778",
   "metadata": {},
   "outputs": [
    {
     "data": {
      "text/plain": [
       "['pandas',\n",
       " 'matplotlib',\n",
       " 'plotly',\n",
       " 'librosa',\n",
       " 'counter',\n",
       " 'tensorflow',\n",
       " 'scipy.io',\n",
       " 'keras']"
      ]
     },
     "execution_count": 22,
     "metadata": {},
     "output_type": "execute_result"
    }
   ],
   "source": [
    "# remove method\n",
    "python_libraries.remove('numpy')\n",
    "python_libraries"
   ]
  },
  {
   "cell_type": "code",
   "execution_count": 23,
   "id": "df4ff2d8",
   "metadata": {},
   "outputs": [
    {
     "data": {
      "text/plain": [
       "['pandas',\n",
       " 'matplotlib',\n",
       " 'plotly',\n",
       " 'librosa',\n",
       " 'counter',\n",
       " 'tensorflow',\n",
       " 'scipy.io',\n",
       " 'keras']"
      ]
     },
     "execution_count": 23,
     "metadata": {},
     "output_type": "execute_result"
    }
   ],
   "source": [
    "copied_list = python_libraries.copy()\n",
    "copied_list"
   ]
  },
  {
   "cell_type": "markdown",
   "id": "eac208ce",
   "metadata": {},
   "source": [
    "## Dictionaries"
   ]
  },
  {
   "cell_type": "code",
   "execution_count": 25,
   "id": "1ccef3c4",
   "metadata": {},
   "outputs": [
    {
     "data": {
      "text/plain": [
       "{'Make': 'Toyota', 'Model': 'Land Cruiser', 'Year': 2002}"
      ]
     },
     "execution_count": 25,
     "metadata": {},
     "output_type": "execute_result"
    }
   ],
   "source": [
    "cars = {'Make':'Toyota', 'Model':'Land Cruiser', 'Year':2002}\n",
    "cars"
   ]
  },
  {
   "cell_type": "code",
   "execution_count": 27,
   "id": "0df91f02",
   "metadata": {},
   "outputs": [
    {
     "data": {
      "text/plain": [
       "'Toyota'"
      ]
     },
     "execution_count": 27,
     "metadata": {},
     "output_type": "execute_result"
    }
   ],
   "source": [
    "cars['Make']"
   ]
  },
  {
   "cell_type": "code",
   "execution_count": 28,
   "id": "98ee6fc5",
   "metadata": {},
   "outputs": [
    {
     "data": {
      "text/plain": [
       "{'Make': 'Toyota', 'Model': 'Land Cruiser', 'Year': 2002, 'new': 'No'}"
      ]
     },
     "execution_count": 28,
     "metadata": {},
     "output_type": "execute_result"
    }
   ],
   "source": [
    "cars['new'] = 'No'\n",
    "cars"
   ]
  },
  {
   "cell_type": "code",
   "execution_count": 30,
   "id": "fac04eab",
   "metadata": {},
   "outputs": [
    {
     "data": {
      "text/plain": [
       "{'Make': 'Toyota',\n",
       " 'Model': 'Land Cruiser',\n",
       " 'Year': 2002,\n",
       " 'new': 'No',\n",
       " 'Color': 'black'}"
      ]
     },
     "execution_count": 30,
     "metadata": {},
     "output_type": "execute_result"
    }
   ],
   "source": [
    "cars['Color']= 'black'\n",
    "cars"
   ]
  },
  {
   "cell_type": "code",
   "execution_count": 31,
   "id": "4ef70480",
   "metadata": {},
   "outputs": [
    {
     "data": {
      "text/plain": [
       "dict_keys(['Make', 'Model', 'Year', 'new', 'Color'])"
      ]
     },
     "execution_count": 31,
     "metadata": {},
     "output_type": "execute_result"
    }
   ],
   "source": [
    "cars.keys()"
   ]
  },
  {
   "cell_type": "code",
   "execution_count": 32,
   "id": "644e561d",
   "metadata": {},
   "outputs": [
    {
     "data": {
      "text/plain": [
       "dict_values(['Toyota', 'Land Cruiser', 2002, 'No', 'black'])"
      ]
     },
     "execution_count": 32,
     "metadata": {},
     "output_type": "execute_result"
    }
   ],
   "source": [
    "cars.values()"
   ]
  },
  {
   "cell_type": "code",
   "execution_count": 33,
   "id": "b72892bd",
   "metadata": {},
   "outputs": [
    {
     "data": {
      "text/plain": [
       "{'f_name': 'Ujjawal',\n",
       " 'l_name': 'Shah',\n",
       " 'age': 20,\n",
       " 'height': '5.9 ft',\n",
       " 'email': 'ujjawalshah360@gmail.com'}"
      ]
     },
     "execution_count": 33,
     "metadata": {},
     "output_type": "execute_result"
    }
   ],
   "source": [
    "profile = {'f_name':'Ujjawal','l_name':'Shah', 'age':20, 'height':'5.9 ft', 'email':'ujjawalshah360@gmail.com'}\n",
    "profile\n"
   ]
  },
  {
   "cell_type": "code",
   "execution_count": 34,
   "id": "a58c9b0b",
   "metadata": {},
   "outputs": [
    {
     "data": {
      "text/plain": [
       "{'f_name': 'Ujjawal',\n",
       " 'l_name': 'Shah',\n",
       " 'age': 20,\n",
       " 'height': '5.9 ft',\n",
       " 'email': 'ujjawalshah360@gmail.com',\n",
       " 'college_email': 'ujjawalshah@bison.howard.edu'}"
      ]
     },
     "execution_count": 34,
     "metadata": {},
     "output_type": "execute_result"
    }
   ],
   "source": [
    "#adding\n",
    "profile['college_email'] = 'ujjawalshah@bison.howard.edu'\n",
    "profile"
   ]
  },
  {
   "cell_type": "code",
   "execution_count": 35,
   "id": "f40c051e",
   "metadata": {},
   "outputs": [
    {
     "data": {
      "text/plain": [
       "{'f_name': 'Ujjawal',\n",
       " 'l_name': 'Shah',\n",
       " 'age': 30,\n",
       " 'height': '5.9 ft',\n",
       " 'email': 'ujjawalshah360@gmail.com',\n",
       " 'college_email': 'ujjawalshah@bison.howard.edu'}"
      ]
     },
     "execution_count": 35,
     "metadata": {},
     "output_type": "execute_result"
    }
   ],
   "source": [
    "profile['age'] = 30\n",
    "profile"
   ]
  },
  {
   "cell_type": "markdown",
   "id": "593c53b4",
   "metadata": {},
   "source": [
    "* # Booleans"
   ]
  },
  {
   "cell_type": "code",
   "execution_count": 1,
   "id": "7afdd31e",
   "metadata": {},
   "outputs": [
    {
     "name": "stdout",
     "output_type": "stream",
     "text": [
      "False\n"
     ]
    }
   ],
   "source": [
    "print(True ==False)"
   ]
  },
  {
   "cell_type": "code",
   "execution_count": 2,
   "id": "e8effcb7",
   "metadata": {},
   "outputs": [
    {
     "name": "stdout",
     "output_type": "stream",
     "text": [
      "True\n"
     ]
    }
   ],
   "source": [
    "print((2<3)|(12<56))"
   ]
  },
  {
   "cell_type": "markdown",
   "id": "753c12d8",
   "metadata": {},
   "source": [
    "* # Tuples"
   ]
  },
  {
   "cell_type": "markdown",
   "id": "a2478aed",
   "metadata": {},
   "source": [
    "# Basic Operations"
   ]
  },
  {
   "cell_type": "code",
   "execution_count": 4,
   "id": "d466059e",
   "metadata": {},
   "outputs": [],
   "source": [
    "seq = [1,2,3,4,5,6,7,8,9]\n"
   ]
  },
  {
   "cell_type": "code",
   "execution_count": 6,
   "id": "ca0d7ae5",
   "metadata": {},
   "outputs": [],
   "source": [
    "my_list = ['John', 'Jon', 'Josh', 'Abel', 'Mike', 'Sean', 'West', 'Abdul']"
   ]
  },
  {
   "cell_type": "code",
   "execution_count": 7,
   "id": "eae65cdc",
   "metadata": {},
   "outputs": [],
   "source": [
    "name = 'Mia'"
   ]
  },
  {
   "cell_type": "code",
   "execution_count": 9,
   "id": "79bfbff5",
   "metadata": {},
   "outputs": [
    {
     "name": "stdout",
     "output_type": "stream",
     "text": [
      "Not a student\n"
     ]
    }
   ],
   "source": [
    "if name in my_list:\n",
    "    print('Student')\n",
    "else:\n",
    "    print('Not a student')"
   ]
  },
  {
   "cell_type": "markdown",
   "id": "010d5240",
   "metadata": {},
   "source": [
    "# Range"
   ]
  },
  {
   "cell_type": "code",
   "execution_count": 7,
   "id": "93987d0c",
   "metadata": {},
   "outputs": [
    {
     "name": "stdout",
     "output_type": "stream",
     "text": [
      "Odd Number\n",
      "Even Number\n",
      "Odd Number\n",
      "Even Number\n"
     ]
    }
   ],
   "source": [
    "for num in range(1,11,3):\n",
    "    if num % 2 ==0:\n",
    "        print('Even Number')\n",
    "    else:\n",
    "        print('Odd Number')"
   ]
  },
  {
   "cell_type": "code",
   "execution_count": 2,
   "id": "0209c524",
   "metadata": {},
   "outputs": [
    {
     "name": "stdout",
     "output_type": "stream",
     "text": [
      "3 is a odd number\n",
      "6 is a odd number\n",
      "9 is a odd number\n"
     ]
    }
   ],
   "source": [
    "num = 1\n",
    "while num < 11:\n",
    "    if num % 3 == 0:\n",
    "        print(f'{num} is a odd number')\n",
    "    num+=1"
   ]
  },
  {
   "cell_type": "markdown",
   "id": "1c44dbb3",
   "metadata": {},
   "source": [
    "# List Comprehension"
   ]
  },
  {
   "cell_type": "code",
   "execution_count": 12,
   "id": "4932eafc",
   "metadata": {},
   "outputs": [
    {
     "name": "stdout",
     "output_type": "stream",
     "text": [
      "['0 is a even number', '1 is a odd number', '2 is a even number', '3 is a odd number', '4 is a even number', '5 is a odd number', '6 is a even number', '7 is a odd number', '8 is a even number', '9 is a odd number', '10 is a even number', '11 is a odd number', '12 is a even number', '13 is a odd number', '14 is a even number', '15 is a odd number', '16 is a even number', '17 is a odd number', '18 is a even number', '19 is a odd number']\n"
     ]
    }
   ],
   "source": [
    "even_odd = [f'{x} is a even number' if x % 2==0 else f'{x} is a odd number' for x in range(20)]\n",
    "print(even_odd)"
   ]
  },
  {
   "cell_type": "markdown",
   "id": "f725fc27",
   "metadata": {},
   "source": [
    "# Dictionary Comprehension"
   ]
  },
  {
   "cell_type": "code",
   "execution_count": 2,
   "id": "e61a36a8",
   "metadata": {},
   "outputs": [
    {
     "data": {
      "text/plain": [
       "{0: 'ujjwal', 1: 'tej', 2: 'harry', 3: 'sally', 4: 'ben'}"
      ]
     },
     "execution_count": 2,
     "metadata": {},
     "output_type": "execute_result"
    }
   ],
   "source": [
    "name = ['ujjwal', 'tej', 'harry', 'sally', 'ben']\n",
    "dico = {k:v for k,v in enumerate(name)}\n",
    "dico"
   ]
  },
  {
   "cell_type": "code",
   "execution_count": null,
   "id": "877f0a78",
   "metadata": {},
   "outputs": [],
   "source": []
  },
  {
   "cell_type": "code",
   "execution_count": null,
   "id": "2f6631da",
   "metadata": {},
   "outputs": [],
   "source": []
  },
  {
   "cell_type": "code",
   "execution_count": 6,
   "id": "dcfe44b6",
   "metadata": {},
   "outputs": [
    {
     "data": {
      "text/plain": [
       "['0 is a even number',\n",
       " '1 is a odd number',\n",
       " '2 is a even number',\n",
       " '3 is a odd number',\n",
       " '4 is a even number',\n",
       " '5 is a odd number',\n",
       " '6 is a even number',\n",
       " '7 is a odd number',\n",
       " '8 is a even number',\n",
       " '9 is a odd number',\n",
       " '10 is a even number',\n",
       " '11 is a odd number',\n",
       " '12 is a even number',\n",
       " '13 is a odd number',\n",
       " '14 is a even number',\n",
       " '15 is a odd number',\n",
       " '16 is a even number',\n",
       " '17 is a odd number',\n",
       " '18 is a even number',\n",
       " '19 is a odd number']"
      ]
     },
     "execution_count": 6,
     "metadata": {},
     "output_type": "execute_result"
    }
   ],
   "source": [
    "even_odd = [f'{x} is a even number' if x % 2==0 else f'{x} is a odd number' for x in range(20)]\n",
    "even_odd"
   ]
  },
  {
   "cell_type": "code",
   "execution_count": 5,
   "id": "0b129557",
   "metadata": {},
   "outputs": [
    {
     "data": {
      "text/plain": [
       "{'Ujjwal': 12, 'Tej': 20, 'Harry': 35, 'Sally': 40, 'Ben': 45}"
      ]
     },
     "execution_count": 5,
     "metadata": {},
     "output_type": "execute_result"
    }
   ],
   "source": [
    "name = ['Ujjawal', 'Tej', 'Harry', 'Sally', 'Ben']\n",
    "age = [12, 20, 35, 40, 45]\n",
    "\n",
    "age_dict = {k:v for k,v in zip(name, age)}\n",
    "age_dict"
   ]
  },
  {
   "cell_type": "code",
   "execution_count": null,
   "id": "740fb550",
   "metadata": {},
   "outputs": [],
   "source": [
    "def square_root_func(num):\n",
    "    result = num ** 0.5\n",
    "    return result"
   ]
  },
  {
   "cell_type": "code",
   "execution_count": 15,
   "id": "76bcfae7",
   "metadata": {},
   "outputs": [
    {
     "name": "stdout",
     "output_type": "stream",
     "text": [
      "-5\n",
      "-6\n",
      "-7\n",
      "-8\n",
      "-9\n"
     ]
    }
   ],
   "source": [
    "for x in range(-5,-10,-1):\n",
    "    print(x)"
   ]
  },
  {
   "cell_type": "code",
   "execution_count": 33,
   "id": "b42f4554",
   "metadata": {},
   "outputs": [
    {
     "name": "stdout",
     "output_type": "stream",
     "text": [
      "jhdbh\n",
      "jhdbh\n",
      "jhdbh\n",
      "jhdbh\n",
      "jhdbh\n"
     ]
    }
   ],
   "source": [
    "for x in range(5,0,-1):\n",
    "    print('jhdbh')"
   ]
  },
  {
   "cell_type": "code",
   "execution_count": 4,
   "id": "fdfeb6da",
   "metadata": {},
   "outputs": [
    {
     "name": "stdout",
     "output_type": "stream",
     "text": [
      "5040\n"
     ]
    }
   ],
   "source": [
    "\n",
    "def factorial_num(num):\n",
    "    p = 1\n",
    "    for x in range(num,0,-1):\n",
    "        p *= x\n",
    "    return p"
   ]
  },
  {
   "cell_type": "code",
   "execution_count": 5,
   "id": "f39d879c",
   "metadata": {},
   "outputs": [
    {
     "data": {
      "text/plain": [
       "<function __main__.<lambda>(x)>"
      ]
     },
     "execution_count": 5,
     "metadata": {},
     "output_type": "execute_result"
    }
   ],
   "source": [
    "lambda x:x**2"
   ]
  }
 ],
 "metadata": {
  "kernelspec": {
   "display_name": "Python 3 (ipykernel)",
   "language": "python",
   "name": "python3"
  },
  "language_info": {
   "codemirror_mode": {
    "name": "ipython",
    "version": 3
   },
   "file_extension": ".py",
   "mimetype": "text/x-python",
   "name": "python",
   "nbconvert_exporter": "python",
   "pygments_lexer": "ipython3",
   "version": "3.9.7"
  }
 },
 "nbformat": 4,
 "nbformat_minor": 5
}
