{
 "cells": [
  {
   "cell_type": "code",
   "execution_count": 5,
   "id": "a2528144",
   "metadata": {},
   "outputs": [],
   "source": [
    "import numpy as np\n",
    "import pandas as pd\n",
    "import random\n",
    "import string"
   ]
  },
  {
   "cell_type": "markdown",
   "id": "8778255b",
   "metadata": {},
   "source": [
    "* # Series is just a column of data"
   ]
  },
  {
   "cell_type": "code",
   "execution_count": 15,
   "id": "5c1dbcf5",
   "metadata": {},
   "outputs": [
    {
     "data": {
      "text/plain": [
       "[0, 1, 2, 3, 4, 5, 6, 7, 8, 9]"
      ]
     },
     "execution_count": 15,
     "metadata": {},
     "output_type": "execute_result"
    }
   ],
   "source": [
    "data1 = [i for i in range(10)]\n",
    "data1"
   ]
  },
  {
   "cell_type": "code",
   "execution_count": 13,
   "id": "b9be557a",
   "metadata": {},
   "outputs": [
    {
     "name": "stdout",
     "output_type": "stream",
     "text": [
      "['A', 'B', 'C', 'D', 'E', 'F', 'G', 'H', 'I', 'J', 'K', 'L', 'M', 'N', 'O', 'P', 'Q', 'R', 'S', 'T', 'U', 'V', 'W', 'X', 'Y', 'Z']\n"
     ]
    }
   ],
   "source": [
    "alphalist = list(string.ascii_uppercase)\n",
    "print(alphalist)"
   ]
  },
  {
   "cell_type": "code",
   "execution_count": 14,
   "id": "497c9a4a",
   "metadata": {},
   "outputs": [
    {
     "data": {
      "text/plain": [
       "['A', 'B', 'C', 'D', 'E', 'F', 'G', 'H', 'I', 'J']"
      ]
     },
     "execution_count": 14,
     "metadata": {},
     "output_type": "execute_result"
    }
   ],
   "source": [
    "index = [alphalist[i] for i in range(10)]\n",
    "index"
   ]
  },
  {
   "cell_type": "code",
   "execution_count": 18,
   "id": "b024df6b",
   "metadata": {},
   "outputs": [
    {
     "data": {
      "text/plain": [
       "A    0\n",
       "B    1\n",
       "C    2\n",
       "D    3\n",
       "E    4\n",
       "F    5\n",
       "G    6\n",
       "H    7\n",
       "I    8\n",
       "J    9\n",
       "dtype: int64"
      ]
     },
     "execution_count": 18,
     "metadata": {},
     "output_type": "execute_result"
    }
   ],
   "source": [
    "serrie1 = pd.Series(data=data1, index = index)\n",
    "serrie1"
   ]
  },
  {
   "cell_type": "code",
   "execution_count": 19,
   "id": "eb40bf22",
   "metadata": {},
   "outputs": [
    {
     "data": {
      "text/plain": [
       "{'A': 0,\n",
       " 'B': 1,\n",
       " 'C': 2,\n",
       " 'D': 3,\n",
       " 'E': 4,\n",
       " 'F': 5,\n",
       " 'G': 6,\n",
       " 'H': 7,\n",
       " 'I': 8,\n",
       " 'J': 9}"
      ]
     },
     "execution_count": 19,
     "metadata": {},
     "output_type": "execute_result"
    }
   ],
   "source": [
    "dico = {k:v for k,v in zip(index,data1)}\n",
    "dico"
   ]
  },
  {
   "cell_type": "code",
   "execution_count": 21,
   "id": "74b91497",
   "metadata": {},
   "outputs": [
    {
     "data": {
      "text/plain": [
       "A    0\n",
       "B    1\n",
       "C    2\n",
       "D    3\n",
       "E    4\n",
       "F    5\n",
       "G    6\n",
       "H    7\n",
       "I    8\n",
       "J    9\n",
       "dtype: int64"
      ]
     },
     "execution_count": 21,
     "metadata": {},
     "output_type": "execute_result"
    }
   ],
   "source": [
    "series2 = pd.Series(dico)\n",
    "series2"
   ]
  },
  {
   "cell_type": "code",
   "execution_count": 26,
   "id": "97e291fd",
   "metadata": {},
   "outputs": [
    {
     "data": {
      "text/html": [
       "<div>\n",
       "<style scoped>\n",
       "    .dataframe tbody tr th:only-of-type {\n",
       "        vertical-align: middle;\n",
       "    }\n",
       "\n",
       "    .dataframe tbody tr th {\n",
       "        vertical-align: top;\n",
       "    }\n",
       "\n",
       "    .dataframe thead th {\n",
       "        text-align: right;\n",
       "    }\n",
       "</style>\n",
       "<table border=\"1\" class=\"dataframe\">\n",
       "  <thead>\n",
       "    <tr style=\"text-align: right;\">\n",
       "      <th></th>\n",
       "      <th>A</th>\n",
       "      <th>B</th>\n",
       "      <th>C</th>\n",
       "      <th>D</th>\n",
       "    </tr>\n",
       "  </thead>\n",
       "  <tbody>\n",
       "    <tr>\n",
       "      <th>0</th>\n",
       "      <td>95</td>\n",
       "      <td>46</td>\n",
       "      <td>38</td>\n",
       "      <td>28</td>\n",
       "    </tr>\n",
       "    <tr>\n",
       "      <th>1</th>\n",
       "      <td>4</td>\n",
       "      <td>99</td>\n",
       "      <td>68</td>\n",
       "      <td>66</td>\n",
       "    </tr>\n",
       "    <tr>\n",
       "      <th>2</th>\n",
       "      <td>64</td>\n",
       "      <td>55</td>\n",
       "      <td>80</td>\n",
       "      <td>48</td>\n",
       "    </tr>\n",
       "    <tr>\n",
       "      <th>3</th>\n",
       "      <td>0</td>\n",
       "      <td>68</td>\n",
       "      <td>84</td>\n",
       "      <td>69</td>\n",
       "    </tr>\n",
       "    <tr>\n",
       "      <th>4</th>\n",
       "      <td>53</td>\n",
       "      <td>3</td>\n",
       "      <td>49</td>\n",
       "      <td>91</td>\n",
       "    </tr>\n",
       "    <tr>\n",
       "      <th>...</th>\n",
       "      <td>...</td>\n",
       "      <td>...</td>\n",
       "      <td>...</td>\n",
       "      <td>...</td>\n",
       "    </tr>\n",
       "    <tr>\n",
       "      <th>95</th>\n",
       "      <td>59</td>\n",
       "      <td>88</td>\n",
       "      <td>23</td>\n",
       "      <td>34</td>\n",
       "    </tr>\n",
       "    <tr>\n",
       "      <th>96</th>\n",
       "      <td>82</td>\n",
       "      <td>46</td>\n",
       "      <td>26</td>\n",
       "      <td>59</td>\n",
       "    </tr>\n",
       "    <tr>\n",
       "      <th>97</th>\n",
       "      <td>80</td>\n",
       "      <td>1</td>\n",
       "      <td>44</td>\n",
       "      <td>76</td>\n",
       "    </tr>\n",
       "    <tr>\n",
       "      <th>98</th>\n",
       "      <td>70</td>\n",
       "      <td>22</td>\n",
       "      <td>64</td>\n",
       "      <td>26</td>\n",
       "    </tr>\n",
       "    <tr>\n",
       "      <th>99</th>\n",
       "      <td>33</td>\n",
       "      <td>56</td>\n",
       "      <td>73</td>\n",
       "      <td>61</td>\n",
       "    </tr>\n",
       "  </tbody>\n",
       "</table>\n",
       "<p>100 rows × 4 columns</p>\n",
       "</div>"
      ],
      "text/plain": [
       "     A   B   C   D\n",
       "0   95  46  38  28\n",
       "1    4  99  68  66\n",
       "2   64  55  80  48\n",
       "3    0  68  84  69\n",
       "4   53   3  49  91\n",
       "..  ..  ..  ..  ..\n",
       "95  59  88  23  34\n",
       "96  82  46  26  59\n",
       "97  80   1  44  76\n",
       "98  70  22  64  26\n",
       "99  33  56  73  61\n",
       "\n",
       "[100 rows x 4 columns]"
      ]
     },
     "execution_count": 26,
     "metadata": {},
     "output_type": "execute_result"
    }
   ],
   "source": [
    "df = pd.DataFrame(np.random.randint(0,100,size=(100, 4)), columns=list('ABCD'))\n",
    "df"
   ]
  },
  {
   "cell_type": "code",
   "execution_count": 39,
   "id": "5fc3ffda",
   "metadata": {},
   "outputs": [
    {
     "data": {
      "text/html": [
       "<div>\n",
       "<style scoped>\n",
       "    .dataframe tbody tr th:only-of-type {\n",
       "        vertical-align: middle;\n",
       "    }\n",
       "\n",
       "    .dataframe tbody tr th {\n",
       "        vertical-align: top;\n",
       "    }\n",
       "\n",
       "    .dataframe thead th {\n",
       "        text-align: right;\n",
       "    }\n",
       "</style>\n",
       "<table border=\"1\" class=\"dataframe\">\n",
       "  <thead>\n",
       "    <tr style=\"text-align: right;\">\n",
       "      <th></th>\n",
       "      <th>V</th>\n",
       "      <th>W</th>\n",
       "      <th>X</th>\n",
       "      <th>Y</th>\n",
       "      <th>Z</th>\n",
       "    </tr>\n",
       "  </thead>\n",
       "  <tbody>\n",
       "    <tr>\n",
       "      <th>A</th>\n",
       "      <td>-0.221506</td>\n",
       "      <td>0.643705</td>\n",
       "      <td>1.179782</td>\n",
       "      <td>0.514220</td>\n",
       "      <td>1.219605</td>\n",
       "    </tr>\n",
       "    <tr>\n",
       "      <th>B</th>\n",
       "      <td>0.921826</td>\n",
       "      <td>0.888249</td>\n",
       "      <td>-0.560223</td>\n",
       "      <td>-0.404329</td>\n",
       "      <td>-0.129176</td>\n",
       "    </tr>\n",
       "    <tr>\n",
       "      <th>C</th>\n",
       "      <td>-0.282612</td>\n",
       "      <td>-2.410064</td>\n",
       "      <td>-0.636899</td>\n",
       "      <td>1.479511</td>\n",
       "      <td>-1.463657</td>\n",
       "    </tr>\n",
       "    <tr>\n",
       "      <th>D</th>\n",
       "      <td>-0.595602</td>\n",
       "      <td>-0.071925</td>\n",
       "      <td>1.026530</td>\n",
       "      <td>-0.211904</td>\n",
       "      <td>-0.591211</td>\n",
       "    </tr>\n",
       "    <tr>\n",
       "      <th>E</th>\n",
       "      <td>0.065254</td>\n",
       "      <td>1.331317</td>\n",
       "      <td>0.366749</td>\n",
       "      <td>-0.620513</td>\n",
       "      <td>-1.127157</td>\n",
       "    </tr>\n",
       "  </tbody>\n",
       "</table>\n",
       "</div>"
      ],
      "text/plain": [
       "          V         W         X         Y         Z\n",
       "A -0.221506  0.643705  1.179782  0.514220  1.219605\n",
       "B  0.921826  0.888249 -0.560223 -0.404329 -0.129176\n",
       "C -0.282612 -2.410064 -0.636899  1.479511 -1.463657\n",
       "D -0.595602 -0.071925  1.026530 -0.211904 -0.591211\n",
       "E  0.065254  1.331317  0.366749 -0.620513 -1.127157"
      ]
     },
     "execution_count": 39,
     "metadata": {},
     "output_type": "execute_result"
    }
   ],
   "source": [
    "df = pd.DataFrame(np.random.randn(5,5) ,index='A/B/C/D/E'.split('/'), columns='V/W/X/Y/Z'.split(\"/\"))\n",
    "df"
   ]
  },
  {
   "cell_type": "code",
   "execution_count": 40,
   "id": "c53f738d",
   "metadata": {},
   "outputs": [
    {
     "data": {
      "text/html": [
       "<div>\n",
       "<style scoped>\n",
       "    .dataframe tbody tr th:only-of-type {\n",
       "        vertical-align: middle;\n",
       "    }\n",
       "\n",
       "    .dataframe tbody tr th {\n",
       "        vertical-align: top;\n",
       "    }\n",
       "\n",
       "    .dataframe thead th {\n",
       "        text-align: right;\n",
       "    }\n",
       "</style>\n",
       "<table border=\"1\" class=\"dataframe\">\n",
       "  <thead>\n",
       "    <tr style=\"text-align: right;\">\n",
       "      <th></th>\n",
       "      <th>V</th>\n",
       "      <th>W</th>\n",
       "    </tr>\n",
       "  </thead>\n",
       "  <tbody>\n",
       "    <tr>\n",
       "      <th>A</th>\n",
       "      <td>-0.221506</td>\n",
       "      <td>0.643705</td>\n",
       "    </tr>\n",
       "    <tr>\n",
       "      <th>B</th>\n",
       "      <td>0.921826</td>\n",
       "      <td>0.888249</td>\n",
       "    </tr>\n",
       "    <tr>\n",
       "      <th>C</th>\n",
       "      <td>-0.282612</td>\n",
       "      <td>-2.410064</td>\n",
       "    </tr>\n",
       "    <tr>\n",
       "      <th>D</th>\n",
       "      <td>-0.595602</td>\n",
       "      <td>-0.071925</td>\n",
       "    </tr>\n",
       "    <tr>\n",
       "      <th>E</th>\n",
       "      <td>0.065254</td>\n",
       "      <td>1.331317</td>\n",
       "    </tr>\n",
       "  </tbody>\n",
       "</table>\n",
       "</div>"
      ],
      "text/plain": [
       "          V         W\n",
       "A -0.221506  0.643705\n",
       "B  0.921826  0.888249\n",
       "C -0.282612 -2.410064\n",
       "D -0.595602 -0.071925\n",
       "E  0.065254  1.331317"
      ]
     },
     "execution_count": 40,
     "metadata": {},
     "output_type": "execute_result"
    }
   ],
   "source": [
    "# df = pd.DataFrame(np.random.randn(5,5) ,index='A/B/C/D/E'.split('/'), columns='V/W/X/Y/Z'.split(\"/\"))\n",
    "df[['V','W']]"
   ]
  },
  {
   "cell_type": "code",
   "execution_count": 42,
   "id": "19584fe6",
   "metadata": {},
   "outputs": [
    {
     "data": {
      "text/plain": [
       "0.9218259008541433"
      ]
     },
     "execution_count": 42,
     "metadata": {},
     "output_type": "execute_result"
    }
   ],
   "source": [
    "df.loc['B']['V']"
   ]
  },
  {
   "cell_type": "code",
   "execution_count": 44,
   "id": "e6a0ee45",
   "metadata": {},
   "outputs": [
    {
     "data": {
      "text/html": [
       "<div>\n",
       "<style scoped>\n",
       "    .dataframe tbody tr th:only-of-type {\n",
       "        vertical-align: middle;\n",
       "    }\n",
       "\n",
       "    .dataframe tbody tr th {\n",
       "        vertical-align: top;\n",
       "    }\n",
       "\n",
       "    .dataframe thead th {\n",
       "        text-align: right;\n",
       "    }\n",
       "</style>\n",
       "<table border=\"1\" class=\"dataframe\">\n",
       "  <thead>\n",
       "    <tr style=\"text-align: right;\">\n",
       "      <th></th>\n",
       "      <th>V</th>\n",
       "      <th>W</th>\n",
       "      <th>X</th>\n",
       "      <th>Y</th>\n",
       "      <th>Z</th>\n",
       "    </tr>\n",
       "  </thead>\n",
       "  <tbody>\n",
       "    <tr>\n",
       "      <th>A</th>\n",
       "      <td>-0.221506</td>\n",
       "      <td>0.643705</td>\n",
       "      <td>1.179782</td>\n",
       "      <td>0.514220</td>\n",
       "      <td>1.219605</td>\n",
       "    </tr>\n",
       "    <tr>\n",
       "      <th>B</th>\n",
       "      <td>0.921826</td>\n",
       "      <td>0.888249</td>\n",
       "      <td>-0.560223</td>\n",
       "      <td>-0.404329</td>\n",
       "      <td>-0.129176</td>\n",
       "    </tr>\n",
       "    <tr>\n",
       "      <th>E</th>\n",
       "      <td>0.065254</td>\n",
       "      <td>1.331317</td>\n",
       "      <td>0.366749</td>\n",
       "      <td>-0.620513</td>\n",
       "      <td>-1.127157</td>\n",
       "    </tr>\n",
       "  </tbody>\n",
       "</table>\n",
       "</div>"
      ],
      "text/plain": [
       "          V         W         X         Y         Z\n",
       "A -0.221506  0.643705  1.179782  0.514220  1.219605\n",
       "B  0.921826  0.888249 -0.560223 -0.404329 -0.129176\n",
       "E  0.065254  1.331317  0.366749 -0.620513 -1.127157"
      ]
     },
     "execution_count": 44,
     "metadata": {},
     "output_type": "execute_result"
    }
   ],
   "source": [
    "df[df['W']>0]"
   ]
  },
  {
   "cell_type": "code",
   "execution_count": 45,
   "id": "ab832a2c",
   "metadata": {},
   "outputs": [
    {
     "data": {
      "text/html": [
       "<div>\n",
       "<style scoped>\n",
       "    .dataframe tbody tr th:only-of-type {\n",
       "        vertical-align: middle;\n",
       "    }\n",
       "\n",
       "    .dataframe tbody tr th {\n",
       "        vertical-align: top;\n",
       "    }\n",
       "\n",
       "    .dataframe thead th {\n",
       "        text-align: right;\n",
       "    }\n",
       "</style>\n",
       "<table border=\"1\" class=\"dataframe\">\n",
       "  <thead>\n",
       "    <tr style=\"text-align: right;\">\n",
       "      <th></th>\n",
       "      <th>V</th>\n",
       "      <th>W</th>\n",
       "      <th>X</th>\n",
       "      <th>Y</th>\n",
       "      <th>Z</th>\n",
       "      <th>U</th>\n",
       "    </tr>\n",
       "  </thead>\n",
       "  <tbody>\n",
       "    <tr>\n",
       "      <th>A</th>\n",
       "      <td>-0.221506</td>\n",
       "      <td>0.643705</td>\n",
       "      <td>1.179782</td>\n",
       "      <td>0.514220</td>\n",
       "      <td>1.219605</td>\n",
       "      <td>0.422199</td>\n",
       "    </tr>\n",
       "    <tr>\n",
       "      <th>B</th>\n",
       "      <td>0.921826</td>\n",
       "      <td>0.888249</td>\n",
       "      <td>-0.560223</td>\n",
       "      <td>-0.404329</td>\n",
       "      <td>-0.129176</td>\n",
       "      <td>1.810075</td>\n",
       "    </tr>\n",
       "    <tr>\n",
       "      <th>C</th>\n",
       "      <td>-0.282612</td>\n",
       "      <td>-2.410064</td>\n",
       "      <td>-0.636899</td>\n",
       "      <td>1.479511</td>\n",
       "      <td>-1.463657</td>\n",
       "      <td>-2.692676</td>\n",
       "    </tr>\n",
       "    <tr>\n",
       "      <th>D</th>\n",
       "      <td>-0.595602</td>\n",
       "      <td>-0.071925</td>\n",
       "      <td>1.026530</td>\n",
       "      <td>-0.211904</td>\n",
       "      <td>-0.591211</td>\n",
       "      <td>-0.667527</td>\n",
       "    </tr>\n",
       "    <tr>\n",
       "      <th>E</th>\n",
       "      <td>0.065254</td>\n",
       "      <td>1.331317</td>\n",
       "      <td>0.366749</td>\n",
       "      <td>-0.620513</td>\n",
       "      <td>-1.127157</td>\n",
       "      <td>1.396571</td>\n",
       "    </tr>\n",
       "  </tbody>\n",
       "</table>\n",
       "</div>"
      ],
      "text/plain": [
       "          V         W         X         Y         Z         U\n",
       "A -0.221506  0.643705  1.179782  0.514220  1.219605  0.422199\n",
       "B  0.921826  0.888249 -0.560223 -0.404329 -0.129176  1.810075\n",
       "C -0.282612 -2.410064 -0.636899  1.479511 -1.463657 -2.692676\n",
       "D -0.595602 -0.071925  1.026530 -0.211904 -0.591211 -0.667527\n",
       "E  0.065254  1.331317  0.366749 -0.620513 -1.127157  1.396571"
      ]
     },
     "execution_count": 45,
     "metadata": {},
     "output_type": "execute_result"
    }
   ],
   "source": [
    "df['U'] = df['V'] + df['W']\n",
    "df"
   ]
  },
  {
   "cell_type": "code",
   "execution_count": 46,
   "id": "4a81176d",
   "metadata": {},
   "outputs": [
    {
     "data": {
      "text/html": [
       "<div>\n",
       "<style scoped>\n",
       "    .dataframe tbody tr th:only-of-type {\n",
       "        vertical-align: middle;\n",
       "    }\n",
       "\n",
       "    .dataframe tbody tr th {\n",
       "        vertical-align: top;\n",
       "    }\n",
       "\n",
       "    .dataframe thead th {\n",
       "        text-align: right;\n",
       "    }\n",
       "</style>\n",
       "<table border=\"1\" class=\"dataframe\">\n",
       "  <thead>\n",
       "    <tr style=\"text-align: right;\">\n",
       "      <th></th>\n",
       "      <th>V</th>\n",
       "      <th>W</th>\n",
       "      <th>X</th>\n",
       "      <th>Y</th>\n",
       "      <th>Z</th>\n",
       "      <th>U</th>\n",
       "    </tr>\n",
       "  </thead>\n",
       "  <tbody>\n",
       "    <tr>\n",
       "      <th>A</th>\n",
       "      <td>-0.221506</td>\n",
       "      <td>0.643705</td>\n",
       "      <td>1.179782</td>\n",
       "      <td>0.514220</td>\n",
       "      <td>1.219605</td>\n",
       "      <td>0.422199</td>\n",
       "    </tr>\n",
       "    <tr>\n",
       "      <th>B</th>\n",
       "      <td>0.921826</td>\n",
       "      <td>0.888249</td>\n",
       "      <td>-0.560223</td>\n",
       "      <td>-0.404329</td>\n",
       "      <td>-0.129176</td>\n",
       "      <td>1.810075</td>\n",
       "    </tr>\n",
       "    <tr>\n",
       "      <th>E</th>\n",
       "      <td>0.065254</td>\n",
       "      <td>1.331317</td>\n",
       "      <td>0.366749</td>\n",
       "      <td>-0.620513</td>\n",
       "      <td>-1.127157</td>\n",
       "      <td>1.396571</td>\n",
       "    </tr>\n",
       "  </tbody>\n",
       "</table>\n",
       "</div>"
      ],
      "text/plain": [
       "          V         W         X         Y         Z         U\n",
       "A -0.221506  0.643705  1.179782  0.514220  1.219605  0.422199\n",
       "B  0.921826  0.888249 -0.560223 -0.404329 -0.129176  1.810075\n",
       "E  0.065254  1.331317  0.366749 -0.620513 -1.127157  1.396571"
      ]
     },
     "execution_count": 46,
     "metadata": {},
     "output_type": "execute_result"
    }
   ],
   "source": [
    "df[df['U'] > df['V']]"
   ]
  },
  {
   "cell_type": "code",
   "execution_count": null,
   "id": "981118fe",
   "metadata": {},
   "outputs": [],
   "source": []
  }
 ],
 "metadata": {
  "kernelspec": {
   "display_name": "Python 3 (ipykernel)",
   "language": "python",
   "name": "python3"
  },
  "language_info": {
   "codemirror_mode": {
    "name": "ipython",
    "version": 3
   },
   "file_extension": ".py",
   "mimetype": "text/x-python",
   "name": "python",
   "nbconvert_exporter": "python",
   "pygments_lexer": "ipython3",
   "version": "3.9.7"
  }
 },
 "nbformat": 4,
 "nbformat_minor": 5
}
