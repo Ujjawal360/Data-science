{
 "cells": [
  {
   "cell_type": "code",
   "execution_count": 1,
   "id": "09424cca",
   "metadata": {},
   "outputs": [],
   "source": [
    "import numpy as np"
   ]
  },
  {
   "cell_type": "code",
   "execution_count": 2,
   "id": "772c333d",
   "metadata": {},
   "outputs": [
    {
     "data": {
      "text/plain": [
       "[0, 1, 2, 3, 4, 5, 6, 7, 8, 9]"
      ]
     },
     "execution_count": 2,
     "metadata": {},
     "output_type": "execute_result"
    }
   ],
   "source": [
    "my_list = [i for i in range(10)]\n",
    "my_list"
   ]
  },
  {
   "cell_type": "code",
   "execution_count": 3,
   "id": "f9cbb85e",
   "metadata": {},
   "outputs": [
    {
     "data": {
      "text/plain": [
       "array([ 0,  1,  4,  9, 16, 25, 36, 49, 64, 81])"
      ]
     },
     "execution_count": 3,
     "metadata": {},
     "output_type": "execute_result"
    }
   ],
   "source": [
    "my_array = np.array(my_list)\n",
    "my_array ** 2"
   ]
  },
  {
   "cell_type": "code",
   "execution_count": 4,
   "id": "e9ad7fac",
   "metadata": {},
   "outputs": [
    {
     "data": {
      "text/plain": [
       "array([[1, 2, 3],\n",
       "       [4, 5, 6],\n",
       "       [7, 8, 9]])"
      ]
     },
     "execution_count": 4,
     "metadata": {},
     "output_type": "execute_result"
    }
   ],
   "source": [
    "my_matrix = np.array([[1,2,3],[4,5,6],[7,8,9]])\n",
    "my_matrix"
   ]
  },
  {
   "cell_type": "code",
   "execution_count": 6,
   "id": "b7e67b3b",
   "metadata": {},
   "outputs": [
    {
     "data": {
      "text/plain": [
       "array([[3],\n",
       "       [6],\n",
       "       [9]])"
      ]
     },
     "execution_count": 6,
     "metadata": {},
     "output_type": "execute_result"
    }
   ],
   "source": [
    "my_matrix[:,2:3]"
   ]
  },
  {
   "cell_type": "markdown",
   "id": "a4dfc4b0",
   "metadata": {},
   "source": [
    "* # arange"
   ]
  },
  {
   "cell_type": "code",
   "execution_count": 9,
   "id": "9a665184",
   "metadata": {},
   "outputs": [
    {
     "data": {
      "text/plain": [
       "array([ 1.        ,  1.68571429,  2.37142857,  3.05714286,  3.74285714,\n",
       "        4.42857143,  5.11428571,  5.8       ,  6.48571429,  7.17142857,\n",
       "        7.85714286,  8.54285714,  9.22857143,  9.91428571, 10.6       ,\n",
       "       11.28571429, 11.97142857, 12.65714286, 13.34285714, 14.02857143,\n",
       "       14.71428571, 15.4       , 16.08571429, 16.77142857, 17.45714286,\n",
       "       18.14285714, 18.82857143, 19.51428571, 20.2       , 20.88571429,\n",
       "       21.57142857, 22.25714286, 22.94285714, 23.62857143, 24.31428571,\n",
       "       25.        ])"
      ]
     },
     "execution_count": 9,
     "metadata": {},
     "output_type": "execute_result"
    }
   ],
   "source": [
    "x = np.linspace(1,25,36)\n",
    "x"
   ]
  },
  {
   "cell_type": "code",
   "execution_count": 11,
   "id": "db093cfe",
   "metadata": {},
   "outputs": [
    {
     "data": {
      "text/plain": [
       "array([[ 1.        ,  1.68571429,  2.37142857,  3.05714286,  3.74285714,\n",
       "         4.42857143],\n",
       "       [ 5.11428571,  5.8       ,  6.48571429,  7.17142857,  7.85714286,\n",
       "         8.54285714],\n",
       "       [ 9.22857143,  9.91428571, 10.6       , 11.28571429, 11.97142857,\n",
       "        12.65714286],\n",
       "       [13.34285714, 14.02857143, 14.71428571, 15.4       , 16.08571429,\n",
       "        16.77142857],\n",
       "       [17.45714286, 18.14285714, 18.82857143, 19.51428571, 20.2       ,\n",
       "        20.88571429],\n",
       "       [21.57142857, 22.25714286, 22.94285714, 23.62857143, 24.31428571,\n",
       "        25.        ]])"
      ]
     },
     "execution_count": 11,
     "metadata": {},
     "output_type": "execute_result"
    }
   ],
   "source": [
    "b = x.reshape(6,6)\n",
    "b"
   ]
  },
  {
   "cell_type": "code",
   "execution_count": 13,
   "id": "676eb80a",
   "metadata": {},
   "outputs": [
    {
     "data": {
      "text/plain": [
       "array([[1., 0., 0.],\n",
       "       [0., 1., 0.],\n",
       "       [0., 0., 1.],\n",
       "       [0., 0., 0.]])"
      ]
     },
     "execution_count": 13,
     "metadata": {},
     "output_type": "execute_result"
    }
   ],
   "source": [
    "x = np.eye(4,3)\n",
    "x"
   ]
  },
  {
   "cell_type": "code",
   "execution_count": 15,
   "id": "f20433ba",
   "metadata": {},
   "outputs": [
    {
     "data": {
      "text/plain": [
       "array([[-0.66367681,  0.87023197, -0.51344018,  0.27161847],\n",
       "       [-1.28679804, -1.25677163, -0.75019788,  0.35310762],\n",
       "       [-1.28324856, -0.09568816, -0.68455146,  0.51831453],\n",
       "       [-0.45914065, -0.51041725, -1.55284738,  0.2322272 ],\n",
       "       [-0.21548688, -0.65319679,  1.13902061, -0.6884673 ]])"
      ]
     },
     "execution_count": 15,
     "metadata": {},
     "output_type": "execute_result"
    }
   ],
   "source": [
    "'''rand ---> create an array of the given shape and \n",
    "   populate it with random samples from a uniform distribution over [0,1)'''\n",
    "\n",
    "'''randn return a sample (or samples) from the \"standard normal\" \n",
    "   distribution. Unlike rand which is uniform'''\n",
    "\n"
   ]
  },
  {
   "cell_type": "code",
   "execution_count": null,
   "id": "fa7781f3",
   "metadata": {},
   "outputs": [],
   "source": [
    "a = [i for i in range(10)]\n"
   ]
  }
 ],
 "metadata": {
  "kernelspec": {
   "display_name": "Python 3 (ipykernel)",
   "language": "python",
   "name": "python3"
  },
  "language_info": {
   "codemirror_mode": {
    "name": "ipython",
    "version": 3
   },
   "file_extension": ".py",
   "mimetype": "text/x-python",
   "name": "python",
   "nbconvert_exporter": "python",
   "pygments_lexer": "ipython3",
   "version": "3.9.7"
  }
 },
 "nbformat": 4,
 "nbformat_minor": 5
}
